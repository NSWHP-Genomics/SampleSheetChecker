{
  "cells": [
    {
      "cell_type": "markdown",
      "metadata": {
        "tags": []
      },
      "source": [
        "# A Python utility to Sanity Check SampleSheet.csv for TSO500\n",
        "\n",
        "![](https://raw.githubusercontent.com/NSWHP-Genomics/StaticDocs/main/PNG/NSWHP_lockup_RGB_web_small.webp)"
      ]
    },
    {
      "cell_type": "code",
      "execution_count": 1,
      "metadata": {
        "trusted": true
      },
      "outputs": [
        {
          "data": {
            "text/plain": [
              "'0.1.3'"
            ]
          },
          "execution_count": 1,
          "metadata": {},
          "output_type": "execute_result"
        }
      ],
      "source": [
        "import pyodide_kernel\n",
        "import pyodide_js\n",
        "await pyodide_js.loadPackage('pandas')\n",
        "\n",
        "import micropip\n",
        "await micropip.install(\"ipywidgets\")"
      ]
    },
    {
      "cell_type": "code",
      "execution_count": null,
      "metadata": {},
      "outputs": [],
      "source": [
        "from IPython.display import HTML, display, Javascript\n",
        "import ipywidgets as widgets\n",
        "\n",
        "# Create a FileUpload widget\n",
        "file_upload = widgets.FileUpload(accept='.csv', multiple=False)\n",
        "\n",
        "# Display the widget\n",
        "display(file_upload)\n",
        "\n",
        "def handle_upload(change):\n",
        "    uploaded_filename = file_upload.value[0].name\n",
        "    uploaded_file = file_upload.value[0].content\n",
        "      \n",
        "    with open(uploaded_filename, 'wb') as f:\n",
        "        f.write(uploaded_file)\n",
        "\n",
        "# Attach an event handler to the upload button\n",
        "file_upload.observe(handle_upload, names='value')"
      ]
    },
    {
      "cell_type": "markdown",
      "metadata": {
        "tags": []
      },
      "source": [
        "## Samplesheet checker"
      ]
    },
    {
      "cell_type": "code",
      "execution_count": 48,
      "metadata": {
        "trusted": true
      },
      "outputs": [
        {
          "name": "stdout",
          "output_type": "stream",
          "text": [
            "{'FileFormatVersion': '2', 'Investigator Name': 'SA', 'RunName': '231017_01', 'Date': '45219', 'InstrumentType': 'NovaSeq6000', 'InstrumentPlatform': '...', 'Assay': 'TSO500', 'Index Adapters': 'UMI DNA/RNA UD Indexes Set A'} complete and pass all thresholds, release pending\n",
            "{'Read1Cycles': '101', 'Read2Cycles': '101', 'Index1Cycles': '10', 'Index2Cycles': '10'} complete and pass all thresholds, release pending\n",
            "{'SoftwareVersion': '1.0.0', 'AdapterRead1': 'CTGTCTCTTATACACATCTCCGAGCCCACGAGAC', 'AdapterRead2': 'CTGTCTCTTATACACATCTGACGCTGCCGACGA', 'AdapterBehavior': 'trim', 'MinimumTrimmedReadLength': '35', 'MaskShortReads': '35', 'OverrideCycles': 'U7N1Y93;I10;I10;U7N1Y93'} complete and pass all thresholds, release pending\n",
            "{'Sequencing Site': 'JHH', 'Instrument ID': 'A00532'} complete and pass all thresholds, release pending\n",
            "{'SoftwareVersion': '3.6.3', 'AdapterRead1': 'CTGTCTCTTATACACATCTCCGAGCCCACGAGAC', 'AdapterRead2': 'CTGTCTCTTATACACATCTGACGCTGCCGACGA', 'AdapterBehavior': 'trim', 'MinimumTrimmedReadLength': '35', 'MaskShortReads': '35', 'OverrideCycles': 'U7N1Y93;I10;I10;U7N1Y93'} complete and pass all thresholds, release pending\n",
            "[{'Sample_ID': '604825856-20221012-D', 'index': 'TAATGTGTCT', 'index2': 'TATGCCTTAC', '': ''}, {'Sample_ID': '604825863-20221012-D', 'index': 'ATACCAACGC', 'index2': 'CGCAGCAATT', '': ''}, {'Sample_ID': '604825887-20221012-D', 'index': 'AGGATGTGCT', 'index2': 'GGAATTGTAA', '': ''}, {'Sample_ID': '616510245-20221012-D', 'index': 'CACGGAACAA', 'index2': 'GTGCTAGGTT', '': ''}, {'Sample_ID': '616510252-20221012-D', 'index': 'TGGAGTACTT', 'index2': 'TCCACACAGA', '': ''}, {'Sample_ID': '604825900-20221012-D', 'index': 'GTATTGACGT', 'index2': 'TTGGAATTCC', '': ''}, {'Sample_ID': '604826013-20221012-D', 'index': 'CTTGTACACC', 'index2': 'AAGCGCGCTT', '': ''}, {'Sample_ID': '604826020-20221012-D', 'index': 'ACACAGGTGG', 'index2': 'ACAACGCTCA', '': ''}, {'Sample_ID': '616510344-20221012-D', 'index': 'CCTGCGGAAC', 'index2': 'AGCCTATGAT', '': ''}, {'Sample_ID': '616510351-20221012-D', 'index': 'TTCATAAGGT', 'index2': 'CCTTCTAACA', '': ''}, {'Sample_ID': '616510368-20221012-D', 'index': 'CTCTGCAGCG', 'index2': 'TACATCCATC', '': ''}, {'Sample_ID': '616510375-20221012-D', 'index': 'CTGACTCTAC', 'index2': 'TGACGGCCGT', '': ''}, {'Sample_ID': '616510382-20221012-D', 'index': 'TCTGGTATCC', 'index2': 'GTAAGCAACG', '': ''}, {'Sample_ID': '616510399-20221012-D', 'index': 'CATTAGTGCG', 'index2': 'TATGTAGTCA', '': ''}, {'Sample_ID': '616510405-20221012-D', 'index': 'ACGGTCAGGA', 'index2': 'AACGAGGCCG', '': ''}, {'Sample_ID': 'NTC-20221012-D', 'index': 'GGCAAGCCAG', 'index2': 'CGGATGCTTG', '': ''}, {'Sample_ID': '604825856-20221012-R', 'index': 'TGTCGCTGGT', 'index2': 'AGTCAGACGA', '': ''}, {'Sample_ID': '604825863-20221012-R', 'index': 'ACCGTTACAA', 'index2': 'TCGCTATGAG', '': ''}, {'Sample_ID': '604825887-20221012-R', 'index': 'TATGCCTTAC', 'index2': 'TAATGTGTCT', '': ''}, {'Sample_ID': '616510245-20221012-R', 'index': 'ACAAGTGGAC', 'index2': 'AACATCGCGC', '': ''}, {'Sample_ID': '616510252-20221012-R', 'index': 'TGGTACCTAA', 'index2': 'AGTACTCATG', '': ''}, {'Sample_ID': '604825900-20221012-R', 'index': 'TTGGAATTCC', 'index2': 'GTATTGACGT', '': ''}, {'Sample_ID': '604826013-20221012-R', 'index': 'CCTCTACATG', 'index2': 'AGGAGGTATC', '': ''}, {'Sample_ID': '604826020-20221012-R', 'index': 'GGAGCGTGTA', 'index2': 'ACTTACGGAT', '': ''}, {'Sample_ID': '616510344-20221012-R', 'index': 'GTCCGTAAGC', 'index2': 'AAGATACACG', '': ''}, {'Sample_ID': '616510351-20221012-R', 'index': 'ACTTCAAGCG', 'index2': 'TTCATGGTTC', '': ''}, {'Sample_ID': '616510368-20221012-R', 'index': 'TCAGAAGGCG', 'index2': 'TATGATGGCC', '': ''}, {'Sample_ID': '616510375-20221012-R', 'index': 'GCGTTGGTAT', 'index2': 'GGAAGTATGT', '': ''}, {'Sample_ID': '616510382-20221012-R', 'index': 'ACATATCCAG', 'index2': 'ATTGCACATA', '': ''}, {'Sample_ID': '616510399-20221012-R', 'index': 'TCATAGATTG', 'index2': 'CACCTTAATC', '': ''}, {'Sample_ID': '616510405-20221012-R', 'index': 'GTATTCCACC', 'index2': 'TTGTCTACAT', '': ''}, {'Sample_ID': 'NTC-20221012-R', 'index': 'CCTCCGTCCA', 'index2': 'CACCGATGTG', '': ''}] complete and pass all thresholds, release pending\n",
            "dict_keys(['FileFormatVersion', 'Investigator Name', 'RunName', 'Date', 'InstrumentType', 'InstrumentPlatform', 'Assay', 'Index Adapters'])\n"
          ]
        }
      ],
      "source": [
        "# file info\n",
        "filename = file_upload.value[0].name\n",
        "\n",
        "# invoke samplesheet checker utility\n",
        "%run tso500samplesheetchecker/__main__.py --samplesheet $filename"
      ]
    }
  ],
  "metadata": {
    "kernelspec": {
      "display_name": "Python (Pyodide)",
      "language": "python",
      "name": "python"
    },
    "language_info": {
      "codemirror_mode": {
        "name": "python",
        "version": 3
      },
      "file_extension": ".py",
      "mimetype": "text/x-python",
      "name": "python",
      "nbconvert_exporter": "python",
      "pygments_lexer": "ipython3",
      "version": "3.8"
    }
  },
  "nbformat": 4,
  "nbformat_minor": 4
}
