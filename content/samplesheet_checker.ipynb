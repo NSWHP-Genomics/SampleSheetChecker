{
  "cells": [
    {
      "cell_type": "markdown",
      "metadata": {
        "tags": []
      },
      "source": [
        "# A Python utility to Sanity Check SampleSheet.csv for TSO500\n",
        "<mark>version np.v0.9.2.2<mark/>\n",
        "\n",
        "![](https://raw.githubusercontent.com/NSWHP-Genomics/StaticDocs/main/PNG/NSWHP_lockup_RGB_web_small.webp)"
      ]
    },
    {
      "cell_type": "code",
      "execution_count": null,
      "metadata": {
        "trusted": true
      },
      "outputs": [],
      "source": [
        "import pyodide_kernel\n",
        "import pyodide_js\n",
        "await pyodide_js.loadPackage('pandas')\n",
        "\n",
        "import micropip\n",
        "await micropip.install(\"ipywidgets\")"
      ]
    },
    {
      "cell_type": "markdown",
      "metadata": {
        "tags": []
      },
      "source": [
        "## Samplesheet checker parameter setting"
      ]
    },
    {
      "cell_type": "code",
      "execution_count": null,
      "metadata": {
        "trusted": true
      },
      "outputs": [],
      "source": [
        "from IPython import get_ipython\n",
        "from IPython.display import HTML, display, Javascript\n",
        "import ipywidgets as widgets\n",
        "\n",
        "# Create a FileUpload widget\n",
        "file_upload = widgets.FileUpload(accept='.csv', multiple=False)\n",
        "\n",
        "# Display the widget\n",
        "display(file_upload)\n",
        "\n",
        "def handle_upload(change):\n",
        "    uploaded_filename = file_upload.value[0].name\n",
        "    uploaded_file = file_upload.value[0].content\n",
        "      \n",
        "    with open(uploaded_filename, 'wb') as f:\n",
        "        f.write(uploaded_file)\n",
        "\n",
        "# Attach an event handler to the upload button\n",
        "file_upload.observe(handle_upload, names='value')\n",
        "# ==========================================================\n",
        "# Condition Definition\n",
        "# ==========================================================\n",
        "conditions = ['Default', 'Allow Index Scramble']\n",
        "\n",
        "# Create a select button widget for selecting the condition\n",
        "condition_select = widgets.RadioButtons(\n",
        "    options=conditions,\n",
        "    description='Select RUN Condition:'\n",
        ")\n",
        "\n",
        "# Display the select button widget\n",
        "display(condition_select)\n",
        "\n",
        "# ==========================================================\n",
        "# SampleSheet Checker Execution\n",
        "# ==========================================================\n",
        "# Event handler for select button value change\n",
        "def on_condition_change(change):\n",
        "    selected_condition = change['new']\n",
        "\n",
        "# Attach event handler to select button widget\n",
        "condition_select.observe(on_condition_change, names='value')"
      ]
    },
    {
      "cell_type": "markdown",
      "metadata": {},
      "source": [
        "## Samplesheet checker run"
      ]
    },
    {
      "cell_type": "code",
      "execution_count": null,
      "metadata": {
        "trusted": true
      },
      "outputs": [],
      "source": [
        "# file info\n",
        "filename = file_upload.value[0].name\n",
        "\n",
        "# Config selction mode\n",
        "indexMode = 'default'\n",
        "if condition_select.value != 'Default':\n",
        "    indexMode = 'skip'\n",
        "print ('>>>>>>>>>>>>>>>>>>>>>>')\n",
        "print (f'Running in mode {indexMode}')\n",
        "print ('>>>>>>>>>>>>>>>>>>>>>>')\n",
        "\n",
        "%run sschecker/sschecker.np.v0.9.1.py --samplesheet $filename --mode $indexMode"
      ]
    },
    {
      "cell_type": "markdown",
      "metadata": {},
      "source": [
        "## FAQ and Issue tracker\n",
        "Please report any issues or questions via the [JIRA issue tracker](https://jira.pathology.health.nsw.gov.au/browse/GEN-2640)\n",
        "\n",
        "If in person support is required, please feel free to reach out to the Bioinformatics team at the [NSW Health Pathology Bioinformatics Helpdesk](mailto:nswpath-swsbioinformatics@health.nsw.gov.au)"
      ]
    }
  ],
  "metadata": {
    "kernelspec": {
      "display_name": "Python (Pyodide)",
      "language": "python",
      "name": "python"
    },
    "language_info": {
      "codemirror_mode": {
        "name": "python",
        "version": 3
      },
      "file_extension": ".py",
      "mimetype": "text/x-python",
      "name": "python",
      "nbconvert_exporter": "python",
      "pygments_lexer": "ipython3",
      "version": "3.8"
    }
  },
  "nbformat": 4,
  "nbformat_minor": 4
}
