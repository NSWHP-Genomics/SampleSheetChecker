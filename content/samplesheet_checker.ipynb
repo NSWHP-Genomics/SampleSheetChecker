{
  "cells": [
    {
      "cell_type": "markdown",
      "metadata": {
        "tags": []
      },
      "source": [
        "# A Python utility to Sanity Check SampleSheet.csv for TSO500\n",
        "\n",
        "![](https://raw.githubusercontent.com/NSWHP-Genomics/StaticDocs/main/PNG/NSWHP_lockup_RGB_web_small.webp)"
      ]
    },
    {
      "cell_type": "code",
      "execution_count": null,
      "metadata": {
        "trusted": true
      },
      "outputs": [],
      "source": [
        "import pyodide_kernel\n",
        "import pyodide_js\n",
        "await pyodide_js.loadPackage('pandas')\n",
        "\n",
        "import micropip\n",
        "await micropip.install(\"ipywidgets\")"
      ]
    },
    {
      "cell_type": "code",
      "execution_count": null,
      "metadata": {},
      "outputs": [],
      "source": [
        "from IPython.display import HTML, display, Javascript\n",
        "import ipywidgets as widgets\n",
        "\n",
        "# Create a FileUpload widget\n",
        "file_upload = widgets.FileUpload(accept='.csv', multiple=False)\n",
        "\n",
        "# Display the widget\n",
        "display(file_upload)\n",
        "\n",
        "def handle_upload(change):\n",
        "    uploaded_filename = file_upload.value[0].name\n",
        "    uploaded_file = file_upload.value[0].content\n",
        "      \n",
        "    with open(uploaded_filename, 'wb') as f:\n",
        "        f.write(uploaded_file)\n",
        "\n",
        "# Attach an event handler to the upload button\n",
        "file_upload.observe(handle_upload, names='value')"
      ]
    },
    {
      "cell_type": "markdown",
      "metadata": {
        "tags": []
      },
      "source": [
        "## Samplesheet checker"
      ]
    },
    {
      "cell_type": "code",
      "execution_count": null,
      "metadata": {
        "trusted": true
      },
      "outputs": [],
      "source": [
        "# file info\n",
        "filename = file_upload.value[0].name\n",
        "\n",
        "# invoke samplesheet checker utility\n",
        "%run sschecker/sschecker.py --samplesheet $filename"
      ]
    },
    {
      "cell_type": "markdown",
      "metadata": {},
      "source": [
        "## FAQ and Issue tracker\n",
        "Please report any issues or questions via the [JIRA issue tracker](https://jira.pathology.health.nsw.gov.au/browse/GEN-2640)\n",
        "\n",
        "If in person support is required, please feel free to reach out to the Bioinformatics team at the [NSW Health Pathology Bioinformatics Helpdesk](mailto:nswpath-swsbioinformatics@health.nsw.gov.au)"
      ]
    }
  ],
  "metadata": {
    "kernelspec": {
      "display_name": "Python (Pyodide)",
      "language": "python",
      "name": "python"
    },
    "language_info": {
      "codemirror_mode": {
        "name": "python",
        "version": 3
      },
      "file_extension": ".py",
      "mimetype": "text/x-python",
      "name": "python",
      "nbconvert_exporter": "python",
      "pygments_lexer": "ipython3",
      "version": "3.8"
    }
  },
  "nbformat": 4,
  "nbformat_minor": 4
}
